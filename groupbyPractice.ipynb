{
 "cells": [
  {
   "cell_type": "code",
   "execution_count": 1,
   "id": "3e962cd0",
   "metadata": {},
   "outputs": [
    {
     "name": "stderr",
     "output_type": "stream",
     "text": [
      "C:\\Users\\EEK\\AppData\\Local\\Temp\\ipykernel_14868\\1802234230.py:1: DeprecationWarning: \n",
      "Pyarrow will become a required dependency of pandas in the next major release of pandas (pandas 3.0),\n",
      "(to allow more performant data types, such as the Arrow string type, and better interoperability with other libraries)\n",
      "but was not found to be installed on your system.\n",
      "If this would cause problems for you,\n",
      "please provide us feedback at https://github.com/pandas-dev/pandas/issues/54466\n",
      "        \n",
      "  import pandas as pd\n"
     ]
    }
   ],
   "source": [
    "import pandas as pd\n",
    "df = pd.read_csv(\"https://media.geeksforgeeks.org/wp-content/uploads/nba.csv\")"
   ]
  },
  {
   "cell_type": "code",
   "execution_count": 2,
   "id": "3115ad9d",
   "metadata": {},
   "outputs": [
    {
     "data": {
      "text/html": [
       "<div>\n",
       "<style scoped>\n",
       "    .dataframe tbody tr th:only-of-type {\n",
       "        vertical-align: middle;\n",
       "    }\n",
       "\n",
       "    .dataframe tbody tr th {\n",
       "        vertical-align: top;\n",
       "    }\n",
       "\n",
       "    .dataframe thead th {\n",
       "        text-align: right;\n",
       "    }\n",
       "</style>\n",
       "<table border=\"1\" class=\"dataframe\">\n",
       "  <thead>\n",
       "    <tr style=\"text-align: right;\">\n",
       "      <th></th>\n",
       "      <th>Name</th>\n",
       "      <th>Team</th>\n",
       "      <th>Number</th>\n",
       "      <th>Position</th>\n",
       "      <th>Age</th>\n",
       "      <th>Height</th>\n",
       "      <th>Weight</th>\n",
       "      <th>College</th>\n",
       "      <th>Salary</th>\n",
       "    </tr>\n",
       "  </thead>\n",
       "  <tbody>\n",
       "    <tr>\n",
       "      <th>0</th>\n",
       "      <td>Avery Bradley</td>\n",
       "      <td>Boston Celtics</td>\n",
       "      <td>0.0</td>\n",
       "      <td>PG</td>\n",
       "      <td>25.0</td>\n",
       "      <td>6-2</td>\n",
       "      <td>180.0</td>\n",
       "      <td>Texas</td>\n",
       "      <td>7730337.0</td>\n",
       "    </tr>\n",
       "    <tr>\n",
       "      <th>1</th>\n",
       "      <td>Jae Crowder</td>\n",
       "      <td>Boston Celtics</td>\n",
       "      <td>99.0</td>\n",
       "      <td>SF</td>\n",
       "      <td>25.0</td>\n",
       "      <td>6-6</td>\n",
       "      <td>235.0</td>\n",
       "      <td>Marquette</td>\n",
       "      <td>6796117.0</td>\n",
       "    </tr>\n",
       "    <tr>\n",
       "      <th>2</th>\n",
       "      <td>John Holland</td>\n",
       "      <td>Boston Celtics</td>\n",
       "      <td>30.0</td>\n",
       "      <td>SG</td>\n",
       "      <td>27.0</td>\n",
       "      <td>6-5</td>\n",
       "      <td>205.0</td>\n",
       "      <td>Boston University</td>\n",
       "      <td>NaN</td>\n",
       "    </tr>\n",
       "    <tr>\n",
       "      <th>3</th>\n",
       "      <td>R.J. Hunter</td>\n",
       "      <td>Boston Celtics</td>\n",
       "      <td>28.0</td>\n",
       "      <td>SG</td>\n",
       "      <td>22.0</td>\n",
       "      <td>6-5</td>\n",
       "      <td>185.0</td>\n",
       "      <td>Georgia State</td>\n",
       "      <td>1148640.0</td>\n",
       "    </tr>\n",
       "    <tr>\n",
       "      <th>4</th>\n",
       "      <td>Jonas Jerebko</td>\n",
       "      <td>Boston Celtics</td>\n",
       "      <td>8.0</td>\n",
       "      <td>PF</td>\n",
       "      <td>29.0</td>\n",
       "      <td>6-10</td>\n",
       "      <td>231.0</td>\n",
       "      <td>NaN</td>\n",
       "      <td>5000000.0</td>\n",
       "    </tr>\n",
       "  </tbody>\n",
       "</table>\n",
       "</div>"
      ],
      "text/plain": [
       "            Name            Team  Number Position   Age Height  Weight  \\\n",
       "0  Avery Bradley  Boston Celtics     0.0       PG  25.0    6-2   180.0   \n",
       "1    Jae Crowder  Boston Celtics    99.0       SF  25.0    6-6   235.0   \n",
       "2   John Holland  Boston Celtics    30.0       SG  27.0    6-5   205.0   \n",
       "3    R.J. Hunter  Boston Celtics    28.0       SG  22.0    6-5   185.0   \n",
       "4  Jonas Jerebko  Boston Celtics     8.0       PF  29.0   6-10   231.0   \n",
       "\n",
       "             College     Salary  \n",
       "0              Texas  7730337.0  \n",
       "1          Marquette  6796117.0  \n",
       "2  Boston University        NaN  \n",
       "3      Georgia State  1148640.0  \n",
       "4                NaN  5000000.0  "
      ]
     },
     "execution_count": 2,
     "metadata": {},
     "output_type": "execute_result"
    }
   ],
   "source": [
    "df.head()"
   ]
  },
  {
   "cell_type": "code",
   "execution_count": 3,
   "id": "fbf14afd",
   "metadata": {},
   "outputs": [
    {
     "data": {
      "text/plain": [
       "(458, 9)"
      ]
     },
     "execution_count": 3,
     "metadata": {},
     "output_type": "execute_result"
    }
   ],
   "source": [
    "df.shape"
   ]
  },
  {
   "cell_type": "code",
   "execution_count": 13,
   "id": "c2baca79",
   "metadata": {},
   "outputs": [
    {
     "name": "stdout",
     "output_type": "stream",
     "text": [
      "                                         Name  Number Position   Age Height  \\\n",
      "Team                                                                          \n",
      "Atlanta Hawks                   Kent Bazemore    24.0       SF  26.0    6-5   \n",
      "Boston Celtics                  Avery Bradley     0.0       PG  25.0    6-2   \n",
      "Brooklyn Nets                Bojan Bogdanovic    44.0       SG  27.0    6-8   \n",
      "Charlotte Hornets               Nicolas Batum     5.0       SG  27.0    6-8   \n",
      "Chicago Bulls                Cameron Bairstow    41.0       PF  25.0    6-9   \n",
      "Cleveland Cavaliers       Matthew Dellavedova     8.0       PG  25.0    6-4   \n",
      "Dallas Mavericks              Justin Anderson     1.0       SG  22.0    6-6   \n",
      "Denver Nuggets                 Darrell Arthur     0.0       PF  28.0    6-9   \n",
      "Detroit Pistons                  Joel Anthony    50.0        C  33.0    6-9   \n",
      "Golden State Warriors         Leandro Barbosa    19.0       SG  33.0    6-3   \n",
      "Houston Rockets                  Trevor Ariza     1.0       SF  30.0    6-8   \n",
      "Indiana Pacers                    Lavoy Allen     5.0       PF  27.0    6-9   \n",
      "Los Angeles Clippers             Cole Aldrich    45.0        C  27.0   6-11   \n",
      "Los Angeles Lakers               Brandon Bass     2.0       PF  31.0    6-8   \n",
      "Memphis Grizzlies                Jordan Adams     3.0       SG  21.0    6-5   \n",
      "Miami Heat                         Chris Bosh     1.0       PF  32.0   6-11   \n",
      "Milwaukee Bucks         Giannis Antetokounmpo    34.0       SF  21.0   6-11   \n",
      "Minnesota Timberwolves        Nemanja Bjelica    88.0       PF  28.0   6-10   \n",
      "New Orleans Pelicans            Alexis Ajinca    42.0        C  28.0    7-2   \n",
      "New York Knicks                 Arron Afflalo     4.0       SG  30.0    6-5   \n",
      "Oklahoma City Thunder            Steven Adams    12.0        C  22.0    7-0   \n",
      "Orlando Magic                  Dewayne Dedmon     3.0        C  26.0    7-0   \n",
      "Philadelphia 76ers                Elton Brand    42.0       PF  37.0    6-9   \n",
      "Phoenix Suns                     Eric Bledsoe     2.0       PG  26.0    6-1   \n",
      "Portland Trail Blazers        Cliff Alexander    34.0       PF  20.0    6-8   \n",
      "Sacramento Kings                   Quincy Acy    13.0       SF  25.0    6-7   \n",
      "San Antonio Spurs           LaMarcus Aldridge    12.0       PF  30.0   6-11   \n",
      "Toronto Raptors               Bismack Biyombo     8.0        C  23.0    6-9   \n",
      "Utah Jazz                       Trevor Booker    33.0       PF  28.0    6-8   \n",
      "Washington Wizards              Alan Anderson     6.0       SG  33.0    6-6   \n",
      "\n",
      "                        Weight                College      Salary  \n",
      "Team                                                               \n",
      "Atlanta Hawks            201.0           Old Dominion   2000000.0  \n",
      "Boston Celtics           180.0                  Texas   7730337.0  \n",
      "Brooklyn Nets            216.0         Oklahoma State   3425510.0  \n",
      "Charlotte Hornets        200.0  Virginia Commonwealth  13125306.0  \n",
      "Chicago Bulls            250.0             New Mexico    845059.0  \n",
      "Cleveland Cavaliers      198.0           Saint Mary's   1147276.0  \n",
      "Dallas Mavericks         228.0               Virginia   1449000.0  \n",
      "Denver Nuggets           235.0                 Kansas   2814000.0  \n",
      "Detroit Pistons          245.0                   UNLV   2500000.0  \n",
      "Golden State Warriors    194.0         North Carolina   2500000.0  \n",
      "Houston Rockets          215.0                   UCLA   8193030.0  \n",
      "Indiana Pacers           255.0                 Temple   4050000.0  \n",
      "Los Angeles Clippers     250.0                 Kansas   1100602.0  \n",
      "Los Angeles Lakers       250.0                    LSU   3000000.0  \n",
      "Memphis Grizzlies        209.0                   UCLA   1404600.0  \n",
      "Miami Heat               235.0           Georgia Tech  22192730.0  \n",
      "Milwaukee Bucks          222.0                Arizona   1953960.0  \n",
      "Minnesota Timberwolves   240.0             Louisville   3950001.0  \n",
      "New Orleans Pelicans     248.0             California   4389607.0  \n",
      "New York Knicks          210.0                   UCLA   8000000.0  \n",
      "Oklahoma City Thunder    255.0             Pittsburgh   2279040.0  \n",
      "Orlando Magic            245.0                    USC    947276.0  \n",
      "Philadelphia 76ers       254.0                   Duke    947276.0  \n",
      "Phoenix Suns             190.0               Kentucky  13500000.0  \n",
      "Portland Trail Blazers   240.0                 Kansas    525093.0  \n",
      "Sacramento Kings         240.0                 Baylor    981348.0  \n",
      "San Antonio Spurs        240.0                  Texas  19689000.0  \n",
      "Toronto Raptors          245.0               Missouri   2814000.0  \n",
      "Utah Jazz                228.0                Clemson   4775000.0  \n",
      "Washington Wizards       220.0         Michigan State   4000000.0  \n"
     ]
    }
   ],
   "source": [
    "groupings = df.groupby('Team')\n",
    "print(groupings.first())"
   ]
  }
 ],
 "metadata": {
  "kernelspec": {
   "display_name": "Python 3",
   "language": "python",
   "name": "python3"
  },
  "language_info": {
   "codemirror_mode": {
    "name": "ipython",
    "version": 3
   },
   "file_extension": ".py",
   "mimetype": "text/x-python",
   "name": "python",
   "nbconvert_exporter": "python",
   "pygments_lexer": "ipython3",
   "version": "3.12.10"
  }
 },
 "nbformat": 4,
 "nbformat_minor": 5
}
