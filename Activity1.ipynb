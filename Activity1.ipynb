{
 "cells": [
  {
   "cell_type": "code",
   "execution_count": 1,
   "id": "240abf5c",
   "metadata": {},
   "outputs": [],
   "source": [
    "!python -m venv .venv "
   ]
  },
  {
   "cell_type": "code",
   "execution_count": 4,
   "id": "9518ddea",
   "metadata": {},
   "outputs": [],
   "source": [
    "import re\n",
    "import argparse"
   ]
  },
  {
   "cell_type": "code",
   "execution_count": 3,
   "id": "de3ad2ef",
   "metadata": {},
   "outputs": [],
   "source": [
    "def analyse_data(input_file, output_file):\n",
    "    with open(input_file, 'r') as f:\n",
    "        text = f.read()\n",
    "    \n",
    "    words = re.findall(r'\\b\\w+\\b', text.lower())\n",
    "    word_counts = {}\n",
    "    \n",
    "    for word in words:\n",
    "        word_counts[word] = word_counts.get(word, 0) + 1\n",
    "\n",
    "    with open(output_file, 'w') as f:\n",
    "        for word, count in word_counts.items():\n",
    "            f.write(f\"{word}: {count}\\n\")"
   ]
  },
  {
   "cell_type": "code",
   "execution_count": 5,
   "id": "dd366882",
   "metadata": {},
   "outputs": [
    {
     "data": {
      "text/plain": [
       "_StoreAction(option_strings=[], dest='output_file', nargs=None, const=None, default=None, type=None, choices=None, required=True, help='Path to output file', metavar=None)"
      ]
     },
     "execution_count": 5,
     "metadata": {},
     "output_type": "execute_result"
    }
   ],
   "source": [
    "parser = argparse.ArgumentParser(description=\"Analyse data from file\")\n",
    "parser.add_argument('input_file', help=\"Path to input file\")\n",
    "parser.add_argument('output_file', help=\"Path to output file\")"
   ]
  },
  {
   "cell_type": "code",
   "execution_count": 6,
   "id": "ce93bac5",
   "metadata": {},
   "outputs": [],
   "source": [
    "arguments = ['data.txt', 'result.txt']\n",
    "\n",
    "args = parser.parse_args(arguments)\n",
    "\n",
    "analyse_data(args.input_file, args.output_file)"
   ]
  }
 ],
 "metadata": {
  "kernelspec": {
   "display_name": "Python 3",
   "language": "python",
   "name": "python3"
  },
  "language_info": {
   "codemirror_mode": {
    "name": "ipython",
    "version": 3
   },
   "file_extension": ".py",
   "mimetype": "text/x-python",
   "name": "python",
   "nbconvert_exporter": "python",
   "pygments_lexer": "ipython3",
   "version": "3.12.10"
  }
 },
 "nbformat": 4,
 "nbformat_minor": 5
}
